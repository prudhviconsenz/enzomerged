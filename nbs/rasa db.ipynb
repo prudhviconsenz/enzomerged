{
 "cells": [
  {
   "cell_type": "code",
   "execution_count": 5,
   "id": "e7ea4ed1",
   "metadata": {
    "collapsed": true
   },
   "outputs": [
    {
     "name": "stderr",
     "output_type": "stream",
     "text": [
      "[cellevents:43:INFO]:starting (time=Jan-07 16:35 MainProcess)\n"
     ]
    },
    {
     "data": {
      "text/plain": [
       "[(1,\n",
       "  '2b16ec09ebe24b138b100f95211568f6',\n",
       "  'action',\n",
       "  1641569671.2727494,\n",
       "  None,\n",
       "  'action_session_start',\n",
       "  '{\"event\": \"action\", \"timestamp\": 1641569671.2727494, \"name\": \"action_session_start\", \"policy\": null, \"confidence\": 1.0, \"action_text\": null, \"hide_rule_turn\": false}'),\n",
       " (2,\n",
       "  '2b16ec09ebe24b138b100f95211568f6',\n",
       "  'session_started',\n",
       "  1641569671.2727945,\n",
       "  None,\n",
       "  None,\n",
       "  '{\"event\": \"session_started\", \"timestamp\": 1641569671.2727945}'),\n",
       " (3,\n",
       "  '2b16ec09ebe24b138b100f95211568f6',\n",
       "  'action',\n",
       "  1641569671.272863,\n",
       "  None,\n",
       "  'action_listen',\n",
       "  '{\"event\": \"action\", \"timestamp\": 1641569671.272863, \"name\": \"action_listen\", \"policy\": null, \"confidence\": null, \"action_text\": null, \"hide_rule_turn\": false}'),\n",
       " (4,\n",
       "  '2b16ec09ebe24b138b100f95211568f6',\n",
       "  'user',\n",
       "  1641569672.3912206,\n",
       "  'hello',\n",
       "  None,\n",
       "  '{\"event\": \"user\", \"timestamp\": 1641569672.3912206, \"text\": \"hi\", \"parse_data\": {\"intent\": {\"id\": -4417000802804856556, \"name\": \"hello\", \"confidence\": 0.8323171138763428}, \"entities\": [], \"text\": \"hi\", \"message_id\": \"fb932d40ff1f4bc48afc1ac3a4e187ec\", \"metadata\": {}, \"intent_ranking\": [{\"id\": -4417000802804856556, \"name\": \"hello\", \"confidence\": 0.8323171138763428}, {\"id\": -5175638797441647562, \"name\": \"affirm\", \"confidence\": 0.09674596041440964}, {\"id\": 8465281140185384696, \"name\": \"goodbye\", \"confidence\": 0.01689920201897621}, {\"id\": -5907479289659233356, \"name\": \"weather_context:weather_comment:time\", \"confidence\": 0.009348331950604916}, {\"id\": 6681792499996499442, \"name\": \"like\", \"confidence\": 0.008975985459983349}, {\"id\": 6841533374848394389, \"name\": \"how_are_you\", \"confidence\": 0.008813605643808842}, {\"id\": 3212474664397833118, \"name\": \"jokes\", \"confidence\": 0.007912283763289452}, {\"id\": 2693097054339731209, \"name\": \"mood_great\", \"confidence\": 0.007029955741018057}, {\"id\": -4741792270348011239, \"name\": \"call_make\", \"confidence\": 0.006397766061127186}, {\"id\": 3650671132154159195, \"name\": \"cancel\", \"confidence\": 0.0055598244071006775}]}, \"input_channel\": \"cmdline\", \"message_id\": \"fb932d40ff1f4bc48afc1ac3a4e187ec\", \"metadata\": {}}'),\n",
       " (5,\n",
       "  '2b16ec09ebe24b138b100f95211568f6',\n",
       "  'user_featurization',\n",
       "  1641569672.5180686,\n",
       "  None,\n",
       "  None,\n",
       "  '{\"event\": \"user_featurization\", \"timestamp\": 1641569672.5180686, \"use_text_for_featurization\": false}'),\n",
       " (6,\n",
       "  '2b16ec09ebe24b138b100f95211568f6',\n",
       "  'action',\n",
       "  1641569672.5181074,\n",
       "  None,\n",
       "  'utter_hello',\n",
       "  '{\"event\": \"action\", \"timestamp\": 1641569672.5181074, \"name\": \"utter_hello\", \"policy\": \"policy_1_RulePolicy\", \"confidence\": 1.0, \"action_text\": null, \"hide_rule_turn\": true}'),\n",
       " (7,\n",
       "  '2b16ec09ebe24b138b100f95211568f6',\n",
       "  'bot',\n",
       "  1641569672.518245,\n",
       "  None,\n",
       "  None,\n",
       "  '{\"event\": \"bot\", \"timestamp\": 1641569672.518245, \"metadata\": {\"utter_action\": \"utter_hello\"}, \"text\": \"Hey! how may I assist you?\", \"data\": {\"elements\": null, \"quick_replies\": null, \"buttons\": null, \"attachment\": null, \"image\": null, \"custom\": null}}'),\n",
       " (8,\n",
       "  '2b16ec09ebe24b138b100f95211568f6',\n",
       "  'action',\n",
       "  1641569672.6007698,\n",
       "  None,\n",
       "  'action_listen',\n",
       "  '{\"event\": \"action\", \"timestamp\": 1641569672.6007698, \"name\": \"action_listen\", \"policy\": \"policy_1_RulePolicy\", \"confidence\": 1.0, \"action_text\": null, \"hide_rule_turn\": true}')]"
      ]
     },
     "execution_count": 5,
     "metadata": {},
     "output_type": "execute_result"
    },
    {
     "name": "stdout",
     "output_type": "stream",
     "text": [
      "time: 46.1 ms\n"
     ]
    }
   ],
   "source": [
    "from ipstartup import *\n",
    "from sqlite3 import connect\n",
    "import json\n",
    "from pandas.io.json import json_normalize\n",
    "con = connect(\"c:/users/simon/onedrive/documents/py/live/enzo_merged/chatbot/rasa.db\")\n",
    "cur = con.execute(\"SELECT * from events\")\n",
    "cur.fetchall()"
   ]
  },
  {
   "cell_type": "code",
   "execution_count": 2,
   "id": "012d60da",
   "metadata": {},
   "outputs": [
    {
     "name": "stderr",
     "output_type": "stream",
     "text": [
      "[cellevents:43:INFO]:starting (time=Jan-07 16:35 MainProcess)\n"
     ]
    },
    {
     "data": {
      "text/plain": [
       "True"
      ]
     },
     "execution_count": 2,
     "metadata": {},
     "output_type": "execute_result"
    },
    {
     "name": "stdout",
     "output_type": "stream",
     "text": [
      "time: 4.81 ms\n"
     ]
    }
   ],
   "source": [
    "os.path.exists(\"c:/users/simon/onedrive/documents/py/live/enzo_merged/chatbot/rasa.db\")"
   ]
  },
  {
   "cell_type": "code",
   "execution_count": 36,
   "id": "23191610",
   "metadata": {},
   "outputs": [
    {
     "name": "stderr",
     "output_type": "stream",
     "text": [
      "[cellevents:43:INFO]:starting (time=Jan-07 17:05 MainProcess)\n"
     ]
    },
    {
     "data": {
      "text/html": [
       "<div>\n",
       "<style scoped>\n",
       "    .dataframe tbody tr th:only-of-type {\n",
       "        vertical-align: middle;\n",
       "    }\n",
       "\n",
       "    .dataframe tbody tr th {\n",
       "        vertical-align: top;\n",
       "    }\n",
       "\n",
       "    .dataframe thead th {\n",
       "        text-align: right;\n",
       "    }\n",
       "</style>\n",
       "<table border=\"1\" class=\"dataframe\">\n",
       "  <thead>\n",
       "    <tr style=\"text-align: right;\">\n",
       "      <th></th>\n",
       "      <th>event</th>\n",
       "      <th>text</th>\n",
       "    </tr>\n",
       "  </thead>\n",
       "  <tbody>\n",
       "    <tr>\n",
       "      <th>0</th>\n",
       "      <td>user</td>\n",
       "      <td>hi</td>\n",
       "    </tr>\n",
       "    <tr>\n",
       "      <th>0</th>\n",
       "      <td>bot</td>\n",
       "      <td>Hey! how may I assist you?</td>\n",
       "    </tr>\n",
       "    <tr>\n",
       "      <th>0</th>\n",
       "      <td>user</td>\n",
       "      <td>navigate to 32, Frith Street, London</td>\n",
       "    </tr>\n",
       "    <tr>\n",
       "      <th>0</th>\n",
       "      <td>bot</td>\n",
       "      <td>Navigating from current location to 32 Frith S...</td>\n",
       "    </tr>\n",
       "    <tr>\n",
       "      <th>0</th>\n",
       "      <td>user</td>\n",
       "      <td>find me a restaurant</td>\n",
       "    </tr>\n",
       "    <tr>\n",
       "      <th>...</th>\n",
       "      <td>...</td>\n",
       "      <td>...</td>\n",
       "    </tr>\n",
       "    <tr>\n",
       "      <th>0</th>\n",
       "      <td>bot</td>\n",
       "      <td>playing Shivers by Ed Sheeran</td>\n",
       "    </tr>\n",
       "    <tr>\n",
       "      <th>0</th>\n",
       "      <td>user</td>\n",
       "      <td>play anython but ed sheeran</td>\n",
       "    </tr>\n",
       "    <tr>\n",
       "      <th>0</th>\n",
       "      <td>bot</td>\n",
       "      <td>playing Shivers by Ed Sheeran</td>\n",
       "    </tr>\n",
       "    <tr>\n",
       "      <th>0</th>\n",
       "      <td>user</td>\n",
       "      <td>play some coldplay</td>\n",
       "    </tr>\n",
       "    <tr>\n",
       "      <th>0</th>\n",
       "      <td>bot</td>\n",
       "      <td>playing Yellow by Coldplay</td>\n",
       "    </tr>\n",
       "  </tbody>\n",
       "</table>\n",
       "<p>85 rows × 2 columns</p>\n",
       "</div>"
      ],
      "text/plain": [
       "   event                                               text\n",
       "0   user                                                 hi\n",
       "0    bot                         Hey! how may I assist you?\n",
       "0   user               navigate to 32, Frith Street, London\n",
       "0    bot  Navigating from current location to 32 Frith S...\n",
       "0   user                               find me a restaurant\n",
       "..   ...                                                ...\n",
       "0    bot                      playing Shivers by Ed Sheeran\n",
       "0   user                        play anython but ed sheeran\n",
       "0    bot                      playing Shivers by Ed Sheeran\n",
       "0   user                                 play some coldplay\n",
       "0    bot                         playing Yellow by Coldplay\n",
       "\n",
       "[85 rows x 2 columns]"
      ]
     },
     "execution_count": 36,
     "metadata": {},
     "output_type": "execute_result"
    },
    {
     "name": "stdout",
     "output_type": "stream",
     "text": [
      "time: 1.45 s\n"
     ]
    }
   ],
   "source": [
    "df = pd.read_sql(\"select *from events\", con)\n",
    "df2 = pd.concat([json_normalize(json.loads(js)) for js in df['data']])\n",
    "df3 = df2[df2.event.isin([\"user\", \"bot\"])][[\"event\", \"text\"]]\n",
    "df3"
   ]
  }
 ],
 "metadata": {
  "kernelspec": {
   "display_name": "Python 3",
   "language": "python",
   "name": "python3"
  },
  "language_info": {
   "codemirror_mode": {
    "name": "ipython",
    "version": 3
   },
   "file_extension": ".py",
   "mimetype": "text/x-python",
   "name": "python",
   "nbconvert_exporter": "python",
   "pygments_lexer": "ipython3",
   "version": "3.8.8"
  }
 },
 "nbformat": 4,
 "nbformat_minor": 5
}
